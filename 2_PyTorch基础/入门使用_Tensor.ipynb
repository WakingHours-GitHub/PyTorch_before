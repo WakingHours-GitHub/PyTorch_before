{
 "cells": [
  {
   "cell_type": "code",
   "execution_count": 5,
   "id": "ab4c0eae",
   "metadata": {},
   "outputs": [
    {
     "data": {
      "text/plain": [
       "'1.10.2+cu113'"
      ]
     },
     "execution_count": 5,
     "metadata": {},
     "output_type": "execute_result"
    }
   ],
   "source": [
    "import torch\n",
    "import numpy as np\n",
    "torch.__version__ # 版本"
   ]
  },
  {
   "cell_type": "markdown",
   "id": "396a70cd",
   "metadata": {},
   "source": [
    "### Tensor\n",
    "张量是一个统称，其中包含很多类型：是一个可以包含高维数据的统称的一个数据结构（类型）\n",
    "\n",
    "1. 0阶张量：标量, scaler、常数，0-D Tensor . 在计算loss中, 返回的就是一个标量.\n",
    "\n",
    "2. 1阶张量：向量 vector，1-D Tensor \n",
    "\n",
    "3. 2阶张量：矩阵 matrix，2-D Tensor\n",
    "\n",
    "4. 3阶张量\n",
    "\n",
    "5. ...\n",
    "\n",
    "6. N阶张量\n",
    "\n",
    "   这个阶也称之为维度, 即shape个数."
   ]
  },
  {
   "cell_type": "code",
   "execution_count": 3,
   "id": "7d581216",
   "metadata": {},
   "outputs": [],
   "source": [
    "# 在python中创建Tensor\n",
    "# 首先要区分的是torch.Tensor() 和 torch.tensor()\n",
    "# 首先大写的Tensoe是类, 一般来说是传入形状然后生成未初始化的tensor. 我们可以通过类直接创建不同类型的tensor\n",
    "# 而小的的tensor是方法, 一般来说是传入数据, 直接生成tensor. 我们可以指定dtype来控制数据类型\n",
    "# 接下来我们就使用torch中的方法创建tensor"
   ]
  },
  {
   "cell_type": "code",
   "execution_count": 12,
   "id": "5e8de739",
   "metadata": {},
   "outputs": [
    {
     "data": {
      "text/plain": [
       "tensor([[1, 3],\n",
       "        [1, 4]])"
      ]
     },
     "execution_count": 12,
     "metadata": {},
     "output_type": "execute_result"
    }
   ],
   "source": [
    "# 使用python中的list创建tensor\n",
    "t1 = torch.tensor([[1, 3], [1, 4]])\n",
    "t1.dtype # torch.int64\n",
    "t1\n",
    "# tensor([[1, 3],\n",
    "        # [1, 4]])\n",
    "        \n"
   ]
  },
  {
   "cell_type": "code",
   "execution_count": null,
   "id": "18330837",
   "metadata": {},
   "outputs": [],
   "source": [
    "#  使用数据直接创建tensor\n",
    "torch.tensor(np.array(\n",
    "    [[1, 2, 3],  \n",
    "     [4, 5, 6]],\n",
    "     dtype=np.float64 # 在np中指定dtype类型\n",
    ")) # 那么生成的tensor类型也是与np类型相同的\n"
   ]
  },
  {
   "cell_type": "code",
   "execution_count": null,
   "id": "12404482",
   "metadata": {},
   "outputs": [],
   "source": []
  },
  {
   "cell_type": "code",
   "execution_count": null,
   "id": "bd2489bf",
   "metadata": {},
   "outputs": [],
   "source": []
  },
  {
   "cell_type": "code",
   "execution_count": null,
   "id": "24ab0413",
   "metadata": {},
   "outputs": [],
   "source": []
  },
  {
   "cell_type": "code",
   "execution_count": 8,
   "id": "c12d5646",
   "metadata": {},
   "outputs": [
    {
     "data": {
      "text/plain": [
       "tensor([[1., 2., 3.],\n",
       "        [4., 5., 6.]], dtype=torch.float64)"
      ]
     },
     "execution_count": 8,
     "metadata": {},
     "output_type": "execute_result"
    }
   ],
   "source": []
  },
  {
   "cell_type": "code",
   "execution_count": null,
   "id": "c3831343",
   "metadata": {},
   "outputs": [],
   "source": []
  }
 ],
 "metadata": {
  "kernelspec": {
   "display_name": "Python 3 (ipykernel)",
   "language": "python",
   "name": "python3"
  },
  "language_info": {
   "codemirror_mode": {
    "name": "ipython",
    "version": 3
   },
   "file_extension": ".py",
   "mimetype": "text/x-python",
   "name": "python",
   "nbconvert_exporter": "python",
   "pygments_lexer": "ipython3",
   "version": "3.9.9"
  },
  "latex_envs": {
   "LaTeX_envs_menu_present": true,
   "autoclose": false,
   "autocomplete": true,
   "bibliofile": "biblio.bib",
   "cite_by": "apalike",
   "current_citInitial": 1,
   "eqLabelWithNumbers": true,
   "eqNumInitial": 1,
   "hotkeys": {
    "equation": "Ctrl-E",
    "itemize": "Ctrl-I"
   },
   "labels_anchors": false,
   "latex_user_defs": false,
   "report_style_numbering": false,
   "user_envs_cfg": false
  }
 },
 "nbformat": 4,
 "nbformat_minor": 5
}
