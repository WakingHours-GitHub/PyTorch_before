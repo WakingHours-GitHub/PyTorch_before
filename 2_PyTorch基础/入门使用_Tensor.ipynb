{
 "cells": [
  {
   "cell_type": "code",
   "execution_count": 14,
   "id": "ab4c0eae",
   "metadata": {},
   "outputs": [
    {
     "data": {
      "text/plain": [
       "'1.10.2+cu113'"
      ]
     },
     "execution_count": 14,
     "metadata": {},
     "output_type": "execute_result"
    }
   ],
   "source": [
    "import torch\n",
    "import numpy as np\n",
    "torch.__version__ # 版本"
   ]
  },
  {
   "cell_type": "markdown",
   "id": "396a70cd",
   "metadata": {},
   "source": [
    "### Tensor\n",
    "张量是一个统称，其中包含很多类型：是一个可以包含高维数据的统称的一个数据结构（类型）\n",
    "\n",
    "1. 0阶张量：标量, scaler、常数，0-D Tensor . 在计算loss中, 返回的就是一个标量.\n",
    "\n",
    "2. 1阶张量：向量 vector，1-D Tensor \n",
    "\n",
    "3. 2阶张量：矩阵 matrix，2-D Tensor\n",
    "\n",
    "4. 3阶张量\n",
    "\n",
    "5. ...\n",
    "\n",
    "6. N阶张量\n",
    "\n",
    "   这个阶也称之为维度, 即shape个数."
   ]
  },
  {
   "cell_type": "code",
   "execution_count": 15,
   "id": "7d581216",
   "metadata": {},
   "outputs": [],
   "source": [
    "# 在python中创建Tensor\n",
    "# 首先要区分的是torch.Tensor() 和 torch.tensor()\n",
    "# 首先大写的Tensoe是类, 一般来说是传入形状然后生成未初始化的tensor. 我们可以通过类直接创建不同类型的tensor\n",
    "# 而小的的tensor是方法, 一般来说是传入数据, 直接生成tensor. 我们可以指定dtype来控制数据类型\n",
    "# 接下来我们就使用torch中的方法创建tensor"
   ]
  },
  {
   "cell_type": "code",
   "execution_count": 16,
   "id": "5e8de739",
   "metadata": {},
   "outputs": [
    {
     "data": {
      "text/plain": [
       "tensor([[1, 3],\n",
       "        [1, 4]])"
      ]
     },
     "execution_count": 16,
     "metadata": {},
     "output_type": "execute_result"
    }
   ],
   "source": [
    "# 使用python中的list创建tensor\n",
    "t1 = torch.tensor([[1, 3], [1, 4]])\n",
    "t1.dtype # torch.int64\n",
    "t1\n",
    "# tensor([[1, 3],\n",
    "        # [1, 4]])"
   ]
  },
  {
   "cell_type": "code",
   "execution_count": 17,
   "id": "18330837",
   "metadata": {},
   "outputs": [
    {
     "data": {
      "text/plain": [
       "tensor([[1., 2., 3.],\n",
       "        [4., 5., 6.]], dtype=torch.float64)"
      ]
     },
     "execution_count": 17,
     "metadata": {},
     "output_type": "execute_result"
    }
   ],
   "source": [
    "#  使用数据直接创建tensor, 创建的时候就已经初始化了\n",
    "torch.tensor(np.array(\n",
    "    [[1, 2, 3],  \n",
    "     [4, 5, 6]],\n",
    "     dtype=np.float64 # 在np中指定dtype类型\n",
    ")) # 那么生成的tensor类型也是与np类型相同的\n"
   ]
  },
  {
   "cell_type": "code",
   "execution_count": 35,
   "id": "12404482",
   "metadata": {},
   "outputs": [
    {
     "name": "stdout",
     "output_type": "stream",
     "text": [
      "tensor([[1.0561e-38, 1.0653e-38, 4.1327e-39, 8.9082e-39, 9.8265e-39],\n",
      "        [9.4592e-39, 1.0561e-38, 6.7041e-39, 1.1112e-38, 9.5511e-39],\n",
      "        [1.0102e-38, 9.0918e-39, 1.0469e-38, 8.4490e-39, 1.0102e-38],\n",
      "        [9.2755e-39, 8.9082e-39, 1.0653e-38, 1.0837e-38, 1.0561e-38]])\n",
      "dtype: torch.float32\n"
     ]
    }
   ],
   "source": [
    "# 利用形状创建tensor\n",
    "t2 = torch.Tensor(4, 5) # 创建一个(1, 2)的tensor\n",
    "print(t2)\n",
    "print(\"dtype:\", t2.dtype) # dtype: torch.float32"
   ]
  },
  {
   "cell_type": "code",
   "execution_count": 39,
   "id": "bd2489bf",
   "metadata": {},
   "outputs": [
    {
     "name": "stdout",
     "output_type": "stream",
     "text": [
      "tensor([[1.5001e+248,  4.3117e-96,  1.1600e-28,  4.3160e-80, 1.9492e-153,\n",
      "         1.6141e+132, 6.2920e+233, 9.8980e+164],\n",
      "        [6.0135e-154, 2.8807e+214,  9.1628e-72,  7.6116e+93, 4.1933e+228,\n",
      "          9.1628e-72, 5.5405e+228, 2.7257e+257],\n",
      "        [8.7452e-154, 4.4036e+198,  2.9516e-75,  1.0884e-71, 8.8289e+199,\n",
      "          9.1628e-72, 4.0667e+223, 7.2808e+223],\n",
      "        [4.8241e+228, 2.5248e+180, 1.0610e-153, 3.1711e+180, 4.4439e+252,\n",
      "         1.4418e+228, 6.7735e+276, 2.4513e+198],\n",
      "        [4.6635e+223, 3.4213e+180, 6.7989e+199, 2.6636e+233, 2.3216e-152,\n",
      "         7.2658e+223,  6.2401e-85, 4.9407e-324]], dtype=torch.float64)\n",
      "dtype torch.float64\n"
     ]
    }
   ],
   "source": [
    "t3 = torch.DoubleTensor(5, 8)\n",
    "print(t3)\n",
    "print(\"dtype\", t3.dtype) # dtype torch.float64"
   ]
  },
  {
   "cell_type": "code",
   "execution_count": 58,
   "id": "24ab0413",
   "metadata": {},
   "outputs": [
    {
     "data": {
      "text/plain": [
       "tensor([[-2.9234e+24],\n",
       "        [ 4.5909e-41],\n",
       "        [ 0.0000e+00]])"
      ]
     },
     "execution_count": 58,
     "metadata": {},
     "output_type": "execute_result"
    }
   ],
   "source": [
    "# 使用APi创建Tensor\n",
    "# 1. torch.empty(): 创建未初始化的tensor., 里面是脏数据.\n",
    "torch.empty((3, 1), dtype=torch.float)"
   ]
  },
  {
   "cell_type": "code",
   "execution_count": null,
   "id": "c12d5646",
   "metadata": {},
   "outputs": [],
   "source": []
  },
  {
   "cell_type": "code",
   "execution_count": null,
   "id": "c3831343",
   "metadata": {},
   "outputs": [],
   "source": []
  }
 ],
 "metadata": {
  "kernelspec": {
   "display_name": "Python 3 (ipykernel)",
   "language": "python",
   "name": "python3"
  },
  "language_info": {
   "codemirror_mode": {
    "name": "ipython",
    "version": 3
   },
   "file_extension": ".py",
   "mimetype": "text/x-python",
   "name": "python",
   "nbconvert_exporter": "python",
   "pygments_lexer": "ipython3",
   "version": "3.9.9"
  },
  "latex_envs": {
   "LaTeX_envs_menu_present": true,
   "autoclose": false,
   "autocomplete": true,
   "bibliofile": "biblio.bib",
   "cite_by": "apalike",
   "current_citInitial": 1,
   "eqLabelWithNumbers": true,
   "eqNumInitial": 1,
   "hotkeys": {
    "equation": "Ctrl-E",
    "itemize": "Ctrl-I"
   },
   "labels_anchors": false,
   "latex_user_defs": false,
   "report_style_numbering": false,
   "user_envs_cfg": false
  }
 },
 "nbformat": 4,
 "nbformat_minor": 5
}
